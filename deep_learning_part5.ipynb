{
  "cells": [
    {
      "cell_type": "markdown",
      "metadata": {
        "id": "jtDzzXMU1igN"
      },
      "source": [
        "# 텍스트를 이용한 인공신경망\n",
        "- speech to text  : 음성 변환"
      ]
    },
    {
      "cell_type": "markdown",
      "metadata": {
        "id": "N45egTUj1igQ"
      },
      "source": [
        "#### 순차데이터 \n",
        "- 텍스트나 시계열 데이터와 같이 순서에 의미가 있는 데이터"
      ]
    },
    {
      "cell_type": "markdown",
      "metadata": {
        "id": "4soAwxj01igS"
      },
      "source": [
        "#### 순환 신경망 ( Recurrent neural network, RNN )\n",
        "- 타입스텝 : 샘플을 처리하는 한 단계\n",
        "- 타임스텝이 오래될수록 순환되는 정보는 희미해짐\n",
        "- 셀\n",
        "- 은닉상태 : 셀의 출력\n",
        "- RNN의 activation funtion은 주로 tanh 함수 * 시그모이드는 0~1, tanh은 -1~1"
      ]
    },
    {
      "cell_type": "markdown",
      "metadata": {
        "id": "8Y9JvNt_1igT"
      },
      "source": [
        "#### RNN의 가중치\n",
        "- Wx : 입력에 곱해지는 가중치\n",
        "- Wh : hidden State에 곱해지는 가중치\n",
        "- 절편도 있지만 여기서는 표시안함"
      ]
    },
    {
      "cell_type": "markdown",
      "metadata": {
        "id": "NcacXSyd1igT"
      },
      "source": [
        "#### 셀의 가중치와 입력\n",
        "- 입력 특성 4개, 순환층 뉴런 3개\n",
        "- 한 뉴런의 hidden state는 다음 timestep에 재사용될 때, 자기자신을 포함한 다른 뉴런에도 모두 전달된다.\n",
        "- Wx의 개수 : 4 * 3, Wh의 개수 3 * 3\n",
        "- 모델 파라미터 수 : 12 + 9 + 3 = 24"
      ]
    },
    {
      "cell_type": "markdown",
      "metadata": {
        "id": "zkpDrYpl1igT"
      },
      "source": [
        "- 샘플을 하나의 시퀀스라고 함 \n",
        "- 순환층이 여러 개 쌓일때는 ? : 마지막 셀을 제외한 다른 모든 셀은 모든 타임스텝의 은닉상태를 출력\n",
        "- 출력층의 구성 : dense layer를 구성하여 클래스를 분류"
      ]
    },
    {
      "cell_type": "markdown",
      "metadata": {
        "id": "i_vYb_kf1igU"
      },
      "source": [
        "- IMDB : Internet Movie DataBase\n",
        "- 텍스트 데이터 : 단어를 숫자로 바꿈. 단어마다 고유한 정수를 부여함\n",
        "- 토큰 : 모두 소문자로 바꾸고 구둣점을 삭제한 다음 공백을 기준으로 분리. 간단한 문제에서는 단어와 같게 봐도 무방\n",
        "- 1개의 토큰이  하나의 타임스템프\n",
        "- 토큰에서 예약된 정수 : 0 패딩 / 1 문장의 시작 / 2 어휘사전에 없는 토큰 ( 어휘사전 : 훈련세트에서 고유한 단어를 뽑아 만든 목록 )"
      ]
    },
    {
      "cell_type": "code",
      "execution_count": 1,
      "metadata": {
        "colab": {
          "base_uri": "https://localhost:8080/"
        },
        "id": "Tw2La83i1igU",
        "outputId": "7d7b14fe-b661-44bc-bc58-12638d23e1d4"
      },
      "outputs": [
        {
          "output_type": "stream",
          "name": "stdout",
          "text": [
            "Downloading data from https://storage.googleapis.com/tensorflow/tf-keras-datasets/imdb.npz\n",
            "17464789/17464789 [==============================] - 0s 0us/step\n"
          ]
        }
      ],
      "source": [
        "from tensorflow.keras.datasets import imdb\n",
        "(train_input, train_target), (test_input, test_target) = imdb.load_data(num_words=500)\n",
        "# load_data(num_words=500) : 자주 등장하는 단어 500개만 사용"
      ]
    },
    {
      "cell_type": "code",
      "execution_count": 2,
      "metadata": {
        "colab": {
          "base_uri": "https://localhost:8080/"
        },
        "id": "GWsaMQTZ1igW",
        "outputId": "f84a14d0-192d-44ae-986c-97be44ae32c9"
      },
      "outputs": [
        {
          "output_type": "stream",
          "name": "stdout",
          "text": [
            "(25000,) (25000,)\n"
          ]
        }
      ],
      "source": [
        "print(train_input.shape, test_input.shape)"
      ]
    },
    {
      "cell_type": "code",
      "execution_count": 3,
      "metadata": {
        "colab": {
          "base_uri": "https://localhost:8080/"
        },
        "id": "7xDvn8-y1igW",
        "outputId": "abbccbbb-734f-49ce-e4b5-05a2b8dae9cb"
      },
      "outputs": [
        {
          "output_type": "stream",
          "name": "stdout",
          "text": [
            "218\n"
          ]
        }
      ],
      "source": [
        "print(len(train_input[0]))"
      ]
    },
    {
      "cell_type": "code",
      "execution_count": 4,
      "metadata": {
        "colab": {
          "base_uri": "https://localhost:8080/"
        },
        "id": "kHEWzyaT1igX",
        "outputId": "66f2172a-5f65-4d59-feee-2411b7f0d69c"
      },
      "outputs": [
        {
          "output_type": "stream",
          "name": "stdout",
          "text": [
            "189\n"
          ]
        }
      ],
      "source": [
        "print(len(train_input[1]))"
      ]
    },
    {
      "cell_type": "code",
      "execution_count": 5,
      "metadata": {
        "colab": {
          "base_uri": "https://localhost:8080/"
        },
        "id": "7ZIJ79hQ1igX",
        "outputId": "4d1d5dcc-e037-4149-d71c-fa00046fbd01"
      },
      "outputs": [
        {
          "output_type": "stream",
          "name": "stdout",
          "text": [
            "[1, 14, 22, 16, 43, 2, 2, 2, 2, 65, 458, 2, 66, 2, 4, 173, 36, 256, 5, 25, 100, 43, 2, 112, 50, 2, 2, 9, 35, 480, 284, 5, 150, 4, 172, 112, 167, 2, 336, 385, 39, 4, 172, 2, 2, 17, 2, 38, 13, 447, 4, 192, 50, 16, 6, 147, 2, 19, 14, 22, 4, 2, 2, 469, 4, 22, 71, 87, 12, 16, 43, 2, 38, 76, 15, 13, 2, 4, 22, 17, 2, 17, 12, 16, 2, 18, 2, 5, 62, 386, 12, 8, 316, 8, 106, 5, 4, 2, 2, 16, 480, 66, 2, 33, 4, 130, 12, 16, 38, 2, 5, 25, 124, 51, 36, 135, 48, 25, 2, 33, 6, 22, 12, 215, 28, 77, 52, 5, 14, 407, 16, 82, 2, 8, 4, 107, 117, 2, 15, 256, 4, 2, 7, 2, 5, 2, 36, 71, 43, 2, 476, 26, 400, 317, 46, 7, 4, 2, 2, 13, 104, 88, 4, 381, 15, 297, 98, 32, 2, 56, 26, 141, 6, 194, 2, 18, 4, 226, 22, 21, 134, 476, 26, 480, 5, 144, 30, 2, 18, 51, 36, 28, 224, 92, 25, 104, 4, 226, 65, 16, 38, 2, 88, 12, 16, 283, 5, 16, 2, 113, 103, 32, 15, 16, 2, 19, 178, 32]\n"
          ]
        }
      ],
      "source": [
        "print(train_input[0])"
      ]
    },
    {
      "cell_type": "code",
      "execution_count": 6,
      "metadata": {
        "colab": {
          "base_uri": "https://localhost:8080/"
        },
        "id": "Yp5nE3Yj1igX",
        "outputId": "3ba935e4-2612-41a3-bb67-4b90a1461574"
      },
      "outputs": [
        {
          "output_type": "stream",
          "name": "stdout",
          "text": [
            "[1 0 0 1 0 0 1 0 1 0 1 0 0 0 0 0 1 1 0 1]\n"
          ]
        }
      ],
      "source": [
        "print(train_target[:20])\n",
        "#부정 : 0, 긍정 : 1"
      ]
    },
    {
      "cell_type": "code",
      "execution_count": 7,
      "metadata": {
        "id": "ybo9uSyq1igY"
      },
      "outputs": [],
      "source": [
        "from sklearn.model_selection import train_test_split\n",
        "train_input, val_input, train_target, val_target = train_test_split(train_input, train_target, test_size=0.2, random_state=42)"
      ]
    },
    {
      "cell_type": "code",
      "execution_count": 8,
      "metadata": {
        "id": "1djrciCe1igY"
      },
      "outputs": [],
      "source": [
        "import numpy as np\n",
        "lengths = np.array([len(x) for x in train_input])"
      ]
    },
    {
      "cell_type": "code",
      "execution_count": 9,
      "metadata": {
        "colab": {
          "base_uri": "https://localhost:8080/"
        },
        "id": "7kAaWiI41igY",
        "outputId": "66397aec-cff9-4335-d470-1694ede6ffed"
      },
      "outputs": [
        {
          "output_type": "stream",
          "name": "stdout",
          "text": [
            "239.00925 178.0\n"
          ]
        }
      ],
      "source": [
        "print(np.mean(lengths), np.median(lengths))"
      ]
    },
    {
      "cell_type": "code",
      "execution_count": 10,
      "metadata": {
        "colab": {
          "base_uri": "https://localhost:8080/",
          "height": 279
        },
        "id": "cOkekAP-1igZ",
        "outputId": "c7abc503-42c4-435a-baf2-d67dfaee286b"
      },
      "outputs": [
        {
          "output_type": "display_data",
          "data": {
            "text/plain": [
              "<Figure size 432x288 with 1 Axes>"
            ],
            "image/png": "[encoded data removed]"
          },
          "metadata": {
            "needs_background": "light"
          }
        }
      ],
      "source": [
        "import matplotlib.pyplot as plt\n",
        "plt.hist(lengths)\n",
        "plt.xlabel('lengths')\n",
        "plt.ylabel('frequency')\n",
        "plt.show()"
      ]
    },
    {
      "cell_type": "code",
      "execution_count": 11,
      "metadata": {
        "id": "qgid0R2g1igZ"
      },
      "outputs": [],
      "source": [
        "from tensorflow.keras.preprocessing.sequence import pad_sequences\n",
        "\n",
        "train_seq = pad_sequences(train_input, maxlen=100)\n",
        "\n",
        "#최대 길이를 100으로 맞춤\n",
        "# 샘플 앞부분을 자른다."
      ]
    },
    {
      "cell_type": "code",
      "execution_count": 12,
      "metadata": {
        "colab": {
          "base_uri": "https://localhost:8080/"
        },
        "id": "MYz4qPDV1iga",
        "outputId": "f66693a7-dd0d-4772-fd02-0bce38a8c0c6"
      },
      "outputs": [
        {
          "output_type": "stream",
          "name": "stdout",
          "text": [
            "(20000, 100)\n"
          ]
        }
      ],
      "source": [
        "print(train_seq.shape)"
      ]
    },
    {
      "cell_type": "code",
      "execution_count": 13,
      "metadata": {
        "colab": {
          "base_uri": "https://localhost:8080/"
        },
        "id": "2WjiF6Cf1iga",
        "outputId": "adbd63a8-354d-4d01-8326-e25783c179ca"
      },
      "outputs": [
        {
          "output_type": "stream",
          "name": "stdout",
          "text": [
            "[ 10   4  20   9   2 364 352   5  45   6   2   2  33 269   8   2 142   2\n",
            "   5   2  17  73  17 204   5   2  19  55   2   2  92  66 104  14  20  93\n",
            "  76   2 151  33   4  58  12 188   2 151  12 215  69 224 142  73 237   6\n",
            "   2   7   2   2 188   2 103  14  31  10  10 451   7   2   5   2  80  91\n",
            "   2  30   2  34  14  20 151  50  26 131  49   2  84  46  50  37  80  79\n",
            "   6   2  46   7  14  20  10  10 470 158]\n"
          ]
        }
      ],
      "source": [
        "print(train_seq[0])"
      ]
    },
    {
      "cell_type": "code",
      "execution_count": 14,
      "metadata": {
        "colab": {
          "base_uri": "https://localhost:8080/"
        },
        "id": "7peHaFOI1iga",
        "outputId": "a9cb7070-f1fe-4ad1-d85f-5f960ba43b90"
      },
      "outputs": [
        {
          "output_type": "stream",
          "name": "stdout",
          "text": [
            "[6, 2, 46, 7, 14, 20, 10, 10, 470, 158]\n"
          ]
        }
      ],
      "source": [
        "print(train_input[0][-10:])"
      ]
    },
    {
      "cell_type": "code",
      "execution_count": 15,
      "metadata": {
        "colab": {
          "base_uri": "https://localhost:8080/"
        },
        "id": "IMdQSpXe1igb",
        "outputId": "d566d2ba-7c1f-4d05-9933-9ad81f99b534"
      },
      "outputs": [
        {
          "output_type": "stream",
          "name": "stdout",
          "text": [
            "[  0   0   0   0   1   2 195  19  49   2   2 190   4   2 352   2 183  10\n",
            "  10  13  82  79   4   2  36  71 269   8   2  25  19  49   7   4   2   2\n",
            "   2   2   2  10  10  48  25  40   2  11   2   2  40   2   2   5   4   2\n",
            "   2  95  14 238  56 129   2  10  10  21   2  94 364 352   2   2  11 190\n",
            "  24 484   2   7  94 205 405  10  10  87   2  34  49   2   7   2   2   2\n",
            "   2   2 290   2  46  48  64  18   4   2]\n"
          ]
        }
      ],
      "source": [
        "print(train_seq[5])"
      ]
    },
    {
      "cell_type": "code",
      "execution_count": 17,
      "metadata": {
        "id": "bNehXvJA1igb"
      },
      "outputs": [],
      "source": [
        "val_seq = pad_sequences(val_input, maxlen=100)\n",
        "# 최대 길이 100, 앞부분을 자름"
      ]
    },
    {
      "cell_type": "code",
      "execution_count": 19,
      "metadata": {
        "id": "_qU4rau51igb"
      },
      "outputs": [],
      "source": [
        "from tensorflow import keras\n",
        "model = keras.Sequential()\n",
        "model.add(keras.layers.SimpleRNN(8,input_shape=(100,500))) # 데이터를 불러올 떄 num_word 500으로 설정\n",
        "model.add(keras.layers.Dense(1,activation='sigmoid'))"
      ]
    },
    {
      "cell_type": "code",
      "source": [
        "train_oh = keras.utils.to_categorical(train_seq) # 범주형 변수로 바꿈 one_hot 인코딩"
      ],
      "metadata": {
        "id": "Mv_YeUSL2_rw"
      },
      "execution_count": 20,
      "outputs": []
    },
    {
      "cell_type": "code",
      "source": [
        "print(train_oh.shape)"
      ],
      "metadata": {
        "colab": {
          "base_uri": "https://localhost:8080/"
        },
        "id": "L4rjxDs23IkN",
        "outputId": "9efcf7d2-0fc5-4f19-89d1-8bbb028de4b2"
      },
      "execution_count": 22,
      "outputs": [
        {
          "output_type": "stream",
          "name": "stdout",
          "text": [
            "(20000, 100, 500)\n"
          ]
        }
      ]
    },
    {
      "cell_type": "code",
      "source": [
        "print(train_oh[0][0][:12])"
      ],
      "metadata": {
        "colab": {
          "base_uri": "https://localhost:8080/"
        },
        "id": "MQowq4g53OO0",
        "outputId": "75086aee-b2ac-4620-cef1-ed9f76e28597"
      },
      "execution_count": 23,
      "outputs": [
        {
          "output_type": "stream",
          "name": "stdout",
          "text": [
            "[0. 0. 0. 0. 0. 0. 0. 0. 0. 0. 1. 0.]\n"
          ]
        }
      ]
    },
    {
      "cell_type": "code",
      "source": [
        "print(np.sum(train_oh[0][0]))"
      ],
      "metadata": {
        "colab": {
          "base_uri": "https://localhost:8080/"
        },
        "id": "SPSMEBMP3YT0",
        "outputId": "1f6bfe24-e7d2-406f-f1c2-038639a796fd"
      },
      "execution_count": 25,
      "outputs": [
        {
          "output_type": "stream",
          "name": "stdout",
          "text": [
            "1.0\n"
          ]
        }
      ]
    },
    {
      "cell_type": "code",
      "source": [
        "val_oh = keras.utils.to_categorical(val_seq)"
      ],
      "metadata": {
        "id": "Xz7M-dS-3bUd"
      },
      "execution_count": 26,
      "outputs": []
    },
    {
      "cell_type": "code",
      "source": [
        "model.summary()"
      ],
      "metadata": {
        "colab": {
          "base_uri": "https://localhost:8080/"
        },
        "id": "SqZgDRbD3sFU",
        "outputId": "e831a44b-d713-46f9-b11c-25c7147d3192"
      },
      "execution_count": 27,
      "outputs": [
        {
          "output_type": "stream",
          "name": "stdout",
          "text": [
            "Model: \"sequential_1\"\n",
            "_________________________________________________________________\n",
            " Layer (type)                Output Shape              Param #   \n",
            "=================================================================\n",
            " simple_rnn (SimpleRNN)      (None, 8)                 4072      \n",
            "                                                                 \n",
            " dense (Dense)               (None, 1)                 9         \n",
            "                                                                 \n",
            "=================================================================\n",
            "Total params: 4,081\n",
            "Trainable params: 4,081\n",
            "Non-trainable params: 0\n",
            "_________________________________________________________________\n"
          ]
        }
      ]
    },
    {
      "cell_type": "code",
      "source": [
        "rmsprop = keras.optimizers.RMSprop(learning_rate=0.4)\n",
        "model.compile(optimizer = rmsprop, loss='binary_crossentropy', metrics=['accuracy'])\n",
        "checkpoint_cb = keras.callbacks.ModelCheckpoint('best-simplearnn-model.h5')\n",
        "early_stopping_cb =  keras.callbacks.EarlyStopping(patience=3,restore_best_weights=True)\n",
        "history = model.fit(train_oh,train_target,epochs=5,batch_size=64,validation_data=(val_oh,val_target),\n",
        "                    callbacks=[checkpoint_cb,early_stopping_cb])"
      ],
      "metadata": {
        "colab": {
          "base_uri": "https://localhost:8080/"
        },
        "id": "jNkAeSF_32LN",
        "outputId": "7c6c0290-d8a0-4a26-ceb7-e9a48250f2be"
      },
      "execution_count": 40,
      "outputs": [
        {
          "output_type": "stream",
          "name": "stdout",
          "text": [
            "Epoch 1/5\n",
            "313/313 [==============================] - 17s 50ms/step - loss: 1.0724 - accuracy: 0.5006 - val_loss: 0.7167 - val_accuracy: 0.4874\n",
            "Epoch 2/5\n",
            "313/313 [==============================] - 16s 51ms/step - loss: 1.0412 - accuracy: 0.5045 - val_loss: 0.8350 - val_accuracy: 0.5126\n",
            "Epoch 3/5\n",
            "313/313 [==============================] - 17s 54ms/step - loss: 1.0456 - accuracy: 0.5015 - val_loss: 0.7660 - val_accuracy: 0.5126\n",
            "Epoch 4/5\n",
            "313/313 [==============================] - 15s 49ms/step - loss: 1.0487 - accuracy: 0.5003 - val_loss: 0.7721 - val_accuracy: 0.5126\n"
          ]
        }
      ]
    },
    {
      "cell_type": "markdown",
      "source": [
        "#### 임베딩 : 각 단어를 고정된 크기의 실수 벡터로 바꿔줌 , 원핫인코딩보다 훨씬 의미 있는 값으로 채워짐"
      ],
      "metadata": {
        "id": "DDAti_z16pCR"
      }
    },
    {
      "cell_type": "code",
      "source": [
        "import matplotlib.pyplot as plt\n",
        "plt.plot(history.history['loss'])\n",
        "plt.plot(history.history['val_loss'])\n",
        "plt.xlabel('epoch')\n",
        "plt.ylabel('loss')\n",
        "plt.legend(['train','val'])\n",
        "plt.show()"
      ],
      "metadata": {
        "colab": {
          "base_uri": "https://localhost:8080/",
          "height": 279
        },
        "id": "CXCwjRX16PCG",
        "outputId": "8c320097-b243-40aa-a6b0-8c20bf3aadd2"
      },
      "execution_count": 41,
      "outputs": [
        {
          "output_type": "display_data",
          "data": {
            "text/plain": [
              "<Figure size 432x288 with 1 Axes>"
            ],
            "image/png": "[encoded data removed]"
          },
          "metadata": {
            "needs_background": "light"
          }
        }
      ]
    },
    {
      "cell_type": "code",
      "source": [],
      "metadata": {
        "id": "1XyscqVk7tXQ"
      },
      "execution_count": null,
      "outputs": []
    }
  ],
  "metadata": {
    "kernelspec": {
      "display_name": "Python 3.8.8 ('base')",
      "language": "python",
      "name": "python3"
    },
    "language_info": {
      "codemirror_mode": {
        "name": "ipython",
        "version": 3
      },
      "file_extension": ".py",
      "mimetype": "text/x-python",
      "name": "python",
      "nbconvert_exporter": "python",
      "pygments_lexer": "ipython3",
      "version": "3.8.8"
    },
    "orig_nbformat": 4,
    "vscode": {
      "interpreter": {
        "hash": "90e68e2d215918e27054de83af9e76c00ba81faef2a1fcd4e4ecb816270b0b60"
      }
    },
    "colab": {
      "provenance": []
    }
  },
  "nbformat": 4,
  "nbformat_minor": 0
}