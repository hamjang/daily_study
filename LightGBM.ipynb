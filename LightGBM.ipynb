{
 "cells": [
  {
   "cell_type": "markdown",
   "metadata": {},
   "source": [
    "# LightGBM \n",
    "- LightGBM은 XGBoost와 함께 인기있는 부스팅계열 모델\n",
    "- 장점 : 학습과 예측속도가 XGBoost에 비해 빠름, 카테고리형 피처 자동 변환"
   ]
  },
  {
   "cell_type": "markdown",
   "metadata": {},
   "source": [
    "- 트리 분할 : 리프 중심 트리 분할 방식\n",
    "- 장점 : 예측 오류 손실 최소화\n",
    "- 단점 : 오버피팅에 약함\n"
   ]
  },
  {
   "cell_type": "markdown",
   "metadata": {},
   "source": [
    "### LightGBM 하이퍼파라미터\n",
    "- n_estimators(d=100) : 반복 수행하는 트리개수 (크면 성능올라가나 너무 크면 과적합) \n",
    "- learning_rate(d=0.1) : 튜닝시 0.5, 0.3 으로 내려가거나 함수활용한다.\n",
    "- Boostiong type"
   ]
  },
  {
   "cell_type": "markdown",
   "metadata": {},
   "source": [
    "1. GBDT(d) \n",
    "2. GOSS : Gradient 값이 상대적으로 큰 값만 선택적으로 재학습, 수행시간 향상되지만 모델 성능은 별로\n",
    "3. DART : 트리 자체를 drop out 방식 ,수행시간이 길고 early starting이 안됨\n",
    "- 보통 1, 3 번 방식을 많이 사용"
   ]
  },
  {
   "cell_type": "markdown",
   "metadata": {},
   "source": [
    "[트리]\n",
    "- max_depth(d=1) : 깊이, Level-wise 방식보단 leaf wise 방식이 상대적으로 깊음\n",
    "- min_child_sample(min_data_in_leaf)(d=20) : 리프노드 수\n",
    "- num_leaves(d=31) : 하나의 트리가 가질 수 있는 최대 리프 갯수"
   ]
  },
  {
   "cell_type": "markdown",
   "metadata": {},
   "source": [
    "[샘플링]\n",
    "- sub_sample(bagging_faction)(d=1.0) 행 샘플링\n",
    "- colsample_bytree(feature_fraction)(d=1.0) 컬럼에 대한 샘플링"
   ]
  },
  {
   "cell_type": "markdown",
   "metadata": {},
   "source": [
    "[하이퍼 파라미터 튜닝]\n",
    "- Grid Search : 일정 값을 정하면 실시, 시간이 많이 걸림\n",
    "- Random Search\n",
    "- Bayesian Optimaization\n",
    "- 일정 시간 내에는 Random Search가 성능이 좋음 그러나 Grid와 Random은 이전 결과를 반영하지 못함, Bayesian Optimaization는 이전에 결과를 살려서 짧은 반복을 통해 최적화 \n"
   ]
  },
  {
   "cell_type": "code",
   "execution_count": 4,
   "metadata": {},
   "outputs": [],
   "source": [
    "from lightgbm import LGBMClassifier\n",
    "import pandas as pd\n",
    "import numpy as np\n",
    "from sklearn.datasets import load_breast_cancer\n",
    "from sklearn.model_selection import train_test_split\n",
    "from sklearn.metrics import accuracy_score, recall_score, f1_score, precision_score, roc_auc_score\n",
    "from sklearn.metrics import confusion_matrix"
   ]
  },
  {
   "cell_type": "code",
   "execution_count": 5,
   "metadata": {},
   "outputs": [],
   "source": [
    "data = load_breast_cancer()"
   ]
  },
  {
   "cell_type": "code",
   "execution_count": 9,
   "metadata": {},
   "outputs": [],
   "source": [
    "ftr = data.data\n",
    "target = data.target"
   ]
  },
  {
   "cell_type": "code",
   "execution_count": 10,
   "metadata": {},
   "outputs": [],
   "source": [
    "X_train, X_test, y_train, y_test = train_test_split(ftr, target, test_size=0.3, random_state=123)\n",
    "lgbm_wrapper = LGBMClassifier(n_estimators=400)"
   ]
  },
  {
   "cell_type": "code",
   "execution_count": 11,
   "metadata": {},
   "outputs": [
    {
     "name": "stderr",
     "output_type": "stream",
     "text": [
      "c:\\Users\\A\\anaconda3\\lib\\site-packages\\lightgbm\\sklearn.py:726: UserWarning: 'early_stopping_rounds' argument is deprecated and will be removed in a future release of LightGBM. Pass 'early_stopping()' callback via 'callbacks' argument instead.\n",
      "  _log_warning(\"'early_stopping_rounds' argument is deprecated and will be removed in a future release of LightGBM. \"\n",
      "c:\\Users\\A\\anaconda3\\lib\\site-packages\\lightgbm\\sklearn.py:736: UserWarning: 'verbose' argument is deprecated and will be removed in a future release of LightGBM. Pass 'log_evaluation()' callback via 'callbacks' argument instead.\n",
      "  _log_warning(\"'verbose' argument is deprecated and will be removed in a future release of LightGBM. \"\n"
     ]
    },
    {
     "name": "stdout",
     "output_type": "stream",
     "text": [
      "[1]\tvalid_0's binary_logloss: 0.595493\n",
      "[2]\tvalid_0's binary_logloss: 0.529971\n",
      "[3]\tvalid_0's binary_logloss: 0.478079\n",
      "[4]\tvalid_0's binary_logloss: 0.432102\n",
      "[5]\tvalid_0's binary_logloss: 0.38968\n",
      "[6]\tvalid_0's binary_logloss: 0.356294\n",
      "[7]\tvalid_0's binary_logloss: 0.329438\n",
      "[8]\tvalid_0's binary_logloss: 0.304419\n",
      "[9]\tvalid_0's binary_logloss: 0.278114\n",
      "[10]\tvalid_0's binary_logloss: 0.258856\n",
      "[11]\tvalid_0's binary_logloss: 0.238508\n",
      "[12]\tvalid_0's binary_logloss: 0.221845\n",
      "[13]\tvalid_0's binary_logloss: 0.207789\n",
      "[14]\tvalid_0's binary_logloss: 0.192637\n",
      "[15]\tvalid_0's binary_logloss: 0.179938\n",
      "[16]\tvalid_0's binary_logloss: 0.16856\n",
      "[17]\tvalid_0's binary_logloss: 0.161137\n",
      "[18]\tvalid_0's binary_logloss: 0.153157\n",
      "[19]\tvalid_0's binary_logloss: 0.145992\n",
      "[20]\tvalid_0's binary_logloss: 0.137745\n",
      "[21]\tvalid_0's binary_logloss: 0.132207\n",
      "[22]\tvalid_0's binary_logloss: 0.12705\n",
      "[23]\tvalid_0's binary_logloss: 0.1222\n",
      "[24]\tvalid_0's binary_logloss: 0.116341\n",
      "[25]\tvalid_0's binary_logloss: 0.111439\n",
      "[26]\tvalid_0's binary_logloss: 0.107929\n",
      "[27]\tvalid_0's binary_logloss: 0.103759\n",
      "[28]\tvalid_0's binary_logloss: 0.100289\n",
      "[29]\tvalid_0's binary_logloss: 0.0979757\n",
      "[30]\tvalid_0's binary_logloss: 0.0954264\n",
      "[31]\tvalid_0's binary_logloss: 0.0928935\n",
      "[32]\tvalid_0's binary_logloss: 0.0917008\n",
      "[33]\tvalid_0's binary_logloss: 0.0904574\n",
      "[34]\tvalid_0's binary_logloss: 0.0898348\n",
      "[35]\tvalid_0's binary_logloss: 0.0892138\n",
      "[36]\tvalid_0's binary_logloss: 0.0881826\n",
      "[37]\tvalid_0's binary_logloss: 0.0880908\n",
      "[38]\tvalid_0's binary_logloss: 0.0860974\n",
      "[39]\tvalid_0's binary_logloss: 0.0857625\n",
      "[40]\tvalid_0's binary_logloss: 0.0856136\n",
      "[41]\tvalid_0's binary_logloss: 0.0840083\n",
      "[42]\tvalid_0's binary_logloss: 0.0845672\n",
      "[43]\tvalid_0's binary_logloss: 0.0827334\n",
      "[44]\tvalid_0's binary_logloss: 0.0819286\n",
      "[45]\tvalid_0's binary_logloss: 0.0807864\n",
      "[46]\tvalid_0's binary_logloss: 0.0815455\n",
      "[47]\tvalid_0's binary_logloss: 0.0807829\n",
      "[48]\tvalid_0's binary_logloss: 0.0800165\n",
      "[49]\tvalid_0's binary_logloss: 0.0811938\n",
      "[50]\tvalid_0's binary_logloss: 0.0805632\n",
      "[51]\tvalid_0's binary_logloss: 0.0794139\n",
      "[52]\tvalid_0's binary_logloss: 0.0801833\n",
      "[53]\tvalid_0's binary_logloss: 0.0801271\n",
      "[54]\tvalid_0's binary_logloss: 0.0807813\n",
      "[55]\tvalid_0's binary_logloss: 0.0816468\n",
      "[56]\tvalid_0's binary_logloss: 0.0819408\n",
      "[57]\tvalid_0's binary_logloss: 0.0820982\n",
      "[58]\tvalid_0's binary_logloss: 0.082549\n",
      "[59]\tvalid_0's binary_logloss: 0.0825231\n",
      "[60]\tvalid_0's binary_logloss: 0.0836239\n",
      "[61]\tvalid_0's binary_logloss: 0.0844462\n",
      "[62]\tvalid_0's binary_logloss: 0.0854045\n",
      "[63]\tvalid_0's binary_logloss: 0.0845696\n",
      "[64]\tvalid_0's binary_logloss: 0.0850767\n",
      "[65]\tvalid_0's binary_logloss: 0.0867187\n",
      "[66]\tvalid_0's binary_logloss: 0.0881756\n",
      "[67]\tvalid_0's binary_logloss: 0.0892443\n",
      "[68]\tvalid_0's binary_logloss: 0.0902713\n",
      "[69]\tvalid_0's binary_logloss: 0.0911387\n",
      "[70]\tvalid_0's binary_logloss: 0.0917124\n",
      "[71]\tvalid_0's binary_logloss: 0.0922969\n",
      "[72]\tvalid_0's binary_logloss: 0.0921839\n",
      "[73]\tvalid_0's binary_logloss: 0.0934466\n",
      "[74]\tvalid_0's binary_logloss: 0.0933467\n",
      "[75]\tvalid_0's binary_logloss: 0.0931927\n",
      "[76]\tvalid_0's binary_logloss: 0.0939277\n",
      "[77]\tvalid_0's binary_logloss: 0.094564\n",
      "[78]\tvalid_0's binary_logloss: 0.0947616\n",
      "[79]\tvalid_0's binary_logloss: 0.0949459\n",
      "[80]\tvalid_0's binary_logloss: 0.0949599\n",
      "[81]\tvalid_0's binary_logloss: 0.0959515\n",
      "[82]\tvalid_0's binary_logloss: 0.0974645\n",
      "[83]\tvalid_0's binary_logloss: 0.0977044\n",
      "[84]\tvalid_0's binary_logloss: 0.0975158\n",
      "[85]\tvalid_0's binary_logloss: 0.097633\n",
      "[86]\tvalid_0's binary_logloss: 0.0993244\n",
      "[87]\tvalid_0's binary_logloss: 0.098577\n",
      "[88]\tvalid_0's binary_logloss: 0.098625\n",
      "[89]\tvalid_0's binary_logloss: 0.0988641\n",
      "[90]\tvalid_0's binary_logloss: 0.100122\n",
      "[91]\tvalid_0's binary_logloss: 0.100403\n",
      "[92]\tvalid_0's binary_logloss: 0.100181\n",
      "[93]\tvalid_0's binary_logloss: 0.100497\n",
      "[94]\tvalid_0's binary_logloss: 0.100317\n",
      "[95]\tvalid_0's binary_logloss: 0.100572\n",
      "[96]\tvalid_0's binary_logloss: 0.101702\n",
      "[97]\tvalid_0's binary_logloss: 0.102553\n",
      "[98]\tvalid_0's binary_logloss: 0.103848\n",
      "[99]\tvalid_0's binary_logloss: 0.105231\n",
      "[100]\tvalid_0's binary_logloss: 0.105262\n",
      "[101]\tvalid_0's binary_logloss: 0.104264\n",
      "[102]\tvalid_0's binary_logloss: 0.10407\n",
      "[103]\tvalid_0's binary_logloss: 0.104279\n",
      "[104]\tvalid_0's binary_logloss: 0.104358\n",
      "[105]\tvalid_0's binary_logloss: 0.104741\n",
      "[106]\tvalid_0's binary_logloss: 0.104665\n",
      "[107]\tvalid_0's binary_logloss: 0.105165\n",
      "[108]\tvalid_0's binary_logloss: 0.10591\n",
      "[109]\tvalid_0's binary_logloss: 0.106729\n",
      "[110]\tvalid_0's binary_logloss: 0.108647\n",
      "[111]\tvalid_0's binary_logloss: 0.110517\n",
      "[112]\tvalid_0's binary_logloss: 0.110871\n",
      "[113]\tvalid_0's binary_logloss: 0.111532\n",
      "[114]\tvalid_0's binary_logloss: 0.112345\n",
      "[115]\tvalid_0's binary_logloss: 0.112654\n",
      "[116]\tvalid_0's binary_logloss: 0.113648\n",
      "[117]\tvalid_0's binary_logloss: 0.1155\n",
      "[118]\tvalid_0's binary_logloss: 0.116078\n",
      "[119]\tvalid_0's binary_logloss: 0.116789\n",
      "[120]\tvalid_0's binary_logloss: 0.117614\n",
      "[121]\tvalid_0's binary_logloss: 0.119128\n",
      "[122]\tvalid_0's binary_logloss: 0.119709\n",
      "[123]\tvalid_0's binary_logloss: 0.120018\n",
      "[124]\tvalid_0's binary_logloss: 0.120946\n",
      "[125]\tvalid_0's binary_logloss: 0.122783\n",
      "[126]\tvalid_0's binary_logloss: 0.12403\n",
      "[127]\tvalid_0's binary_logloss: 0.123227\n",
      "[128]\tvalid_0's binary_logloss: 0.124481\n",
      "[129]\tvalid_0's binary_logloss: 0.125286\n",
      "[130]\tvalid_0's binary_logloss: 0.126406\n",
      "[131]\tvalid_0's binary_logloss: 0.127283\n",
      "[132]\tvalid_0's binary_logloss: 0.126964\n",
      "[133]\tvalid_0's binary_logloss: 0.126771\n",
      "[134]\tvalid_0's binary_logloss: 0.128514\n",
      "[135]\tvalid_0's binary_logloss: 0.130431\n",
      "[136]\tvalid_0's binary_logloss: 0.130751\n",
      "[137]\tvalid_0's binary_logloss: 0.131608\n",
      "[138]\tvalid_0's binary_logloss: 0.132564\n",
      "[139]\tvalid_0's binary_logloss: 0.133752\n",
      "[140]\tvalid_0's binary_logloss: 0.135258\n",
      "[141]\tvalid_0's binary_logloss: 0.135986\n",
      "[142]\tvalid_0's binary_logloss: 0.136803\n",
      "[143]\tvalid_0's binary_logloss: 0.137769\n",
      "[144]\tvalid_0's binary_logloss: 0.137058\n",
      "[145]\tvalid_0's binary_logloss: 0.139286\n",
      "[146]\tvalid_0's binary_logloss: 0.139242\n",
      "[147]\tvalid_0's binary_logloss: 0.140401\n",
      "[148]\tvalid_0's binary_logloss: 0.141278\n",
      "[149]\tvalid_0's binary_logloss: 0.141515\n",
      "[150]\tvalid_0's binary_logloss: 0.141035\n",
      "[151]\tvalid_0's binary_logloss: 0.140813\n"
     ]
    },
    {
     "data": {
      "text/plain": [
       "LGBMClassifier(n_estimators=400)"
      ]
     },
     "execution_count": 11,
     "metadata": {},
     "output_type": "execute_result"
    }
   ],
   "source": [
    "evals = [(X_test,y_test)]\n",
    "lgbm_wrapper.fit(X_train,y_train,early_stopping_rounds=100, eval_metric='logloss',\n",
    "                 eval_set = evals, verbose=True)"
   ]
  },
  {
   "cell_type": "code",
   "execution_count": 12,
   "metadata": {},
   "outputs": [],
   "source": [
    "preds = lgbm_wrapper.predict(X_test)"
   ]
  },
  {
   "cell_type": "code",
   "execution_count": 13,
   "metadata": {},
   "outputs": [],
   "source": [
    "def get_clf_eval(y_test,y_pred) :\n",
    "    confusion = confusion_matrix(y_test, y_pred)\n",
    "    accuracy = accuracy_score(y_test, y_pred)\n",
    "    precision = precision_score(y_test, y_pred)\n",
    "    recall = recall_score(y_test, y_pred)\n",
    "    F1 = f1_score(y_test, y_pred)\n",
    "    AUC = roc_auc_score(y_test, y_pred)\n",
    "    print('오차행렬:\\n',confusion)\n",
    "    print('\\n정확도: {:.4f}'.format(accuracy))\n",
    "    print('정확도: {:.4f}'.format(precision))\n",
    "    print('재확도: {:.4f}'.format(recall))\n",
    "    print('F1: {:.4f}'.format(F1))\n",
    "    print('AUC: {:.4f}'.format(AUC))"
   ]
  },
  {
   "cell_type": "code",
   "execution_count": 14,
   "metadata": {},
   "outputs": [
    {
     "name": "stdout",
     "output_type": "stream",
     "text": [
      "오차행렬:\n",
      " [[ 66   2]\n",
      " [  2 101]]\n",
      "\n",
      "정확도: 0.9766\n",
      "정확도: 0.9806\n",
      "재확도: 0.9806\n",
      "F1: 0.9806\n",
      "AUC: 0.9756\n"
     ]
    }
   ],
   "source": [
    "get_clf_eval(y_test,preds)"
   ]
  },
  {
   "cell_type": "code",
   "execution_count": 16,
   "metadata": {},
   "outputs": [
    {
     "data": {
      "text/plain": [
       "<AxesSubplot:title={'center':'Feature importance'}, xlabel='Feature importance', ylabel='Features'>"
      ]
     },
     "execution_count": 16,
     "metadata": {},
     "output_type": "execute_result"
    },
    {
     "data": {
      "image/png": "[encoded data removed]",
      "text/plain": [
       "<Figure size 432x432 with 1 Axes>"
      ]
     },
     "metadata": {
      "needs_background": "light"
     },
     "output_type": "display_data"
    }
   ],
   "source": [
    "from lightgbm import plot_importance\n",
    "import matplotlib.pyplot as plt\n",
    "%matplotlib inline\n",
    "\n",
    "f, ax = plt.subplots(figsize=(6,6))\n",
    "plot_importance(lgbm_wrapper,max_num_features=15,ax=ax)"
   ]
  },
  {
   "cell_type": "code",
   "execution_count": null,
   "metadata": {},
   "outputs": [],
   "source": []
  }
 ],
 "metadata": {
  "kernelspec": {
   "display_name": "Python 3.8.8 ('base')",
   "language": "python",
   "name": "python3"
  },
  "language_info": {
   "codemirror_mode": {
    "name": "ipython",
    "version": 3
   },
   "file_extension": ".py",
   "mimetype": "text/x-python",
   "name": "python",
   "nbconvert_exporter": "python",
   "pygments_lexer": "ipython3",
   "version": "3.8.8"
  },
  "orig_nbformat": 4,
  "vscode": {
   "interpreter": {
    "hash": "90e68e2d215918e27054de83af9e76c00ba81faef2a1fcd4e4ecb816270b0b60"
   }
  }
 },
 "nbformat": 4,
 "nbformat_minor": 2
}
